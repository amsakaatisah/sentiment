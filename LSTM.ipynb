{
  "nbformat": 4,
  "nbformat_minor": 0,
  "metadata": {
    "colab": {
      "name": "LSTM.ipynb",
      "provenance": [],
      "collapsed_sections": [],
      "include_colab_link": true
    },
    "kernelspec": {
      "name": "python3",
      "display_name": "Python 3"
    }
  },
  "cells": [
    {
      "cell_type": "markdown",
      "metadata": {
        "id": "view-in-github",
        "colab_type": "text"
      },
      "source": [
        "<a href=\"https://colab.research.google.com/github/amsakaatisah/sentiment/blob/main/LSTM.ipynb\" target=\"_parent\"><img src=\"https://colab.research.google.com/assets/colab-badge.svg\" alt=\"Open In Colab\"/></a>"
      ]
    },
    {
      "cell_type": "code",
      "metadata": {
        "id": "zFuFSLc_JQf2"
      },
      "source": [
        "import tensorflow as tf\r\n",
        "import pandas as pd\r\n",
        "import numpy as np\r\n",
        "from tensorflow.keras.preprocessing.text import Tokenizer\r\n",
        "from tensorflow.keras.preprocessing.sequence import pad_sequences\r\n",
        "from sklearn.preprocessing import LabelEncoder\r\n",
        "from sklearn.model_selection import train_test_split\r\n",
        "import matplotlib.pyplot as plt\r\n",
        "import seaborn as sns\r\n",
        "import tensorflow_datasets as tfds"
      ],
      "execution_count": null,
      "outputs": []
    },
    {
      "cell_type": "code",
      "metadata": {
        "colab": {
          "base_uri": "https://localhost:8080/",
          "height": 350
        },
        "id": "UBSOZYP9JgK0",
        "outputId": "4bfa3534-a1e3-4964-a112-4d10cf263ae9"
      },
      "source": [
        "dataset = pd.read_csv('/content/drive/MyDrive/Colab Notebooks/IMDB Dataset.csv')\r\n",
        "negative = len(dataset[dataset['sentiment']=='positive'])\r\n",
        "positive = len(dataset) - negative\r\n",
        "sns.countplot(dataset['sentiment'])\r\n",
        "print('Positive reviews are {} and negative reviews are {} of total {} '.format(positive,negative,len(dataset)))"
      ],
      "execution_count": null,
      "outputs": [
        {
          "output_type": "stream",
          "text": [
            "Positive reviews are 25000 and negative reviews are 25000 of total 50000 \n"
          ],
          "name": "stdout"
        },
        {
          "output_type": "stream",
          "text": [
            "/usr/local/lib/python3.6/dist-packages/seaborn/_decorators.py:43: FutureWarning: Pass the following variable as a keyword arg: x. From version 0.12, the only valid positional argument will be `data`, and passing other arguments without an explicit keyword will result in an error or misinterpretation.\n",
            "  FutureWarning\n"
          ],
          "name": "stderr"
        },
        {
          "output_type": "display_data",
          "data": {
            "image/png": "[encoded data removed]",
            "text/plain": [
              "<Figure size 432x288 with 1 Axes>"
            ]
          },
          "metadata": {
            "tags": [],
            "needs_background": "light"
          }
        }
      ]
    },
    {
      "cell_type": "code",
      "metadata": {
        "id": "i66TyjIqJ9VT"
      },
      "source": [
        "le = LabelEncoder()\r\n",
        "training_reviews,testing_reviews,training_labels,testing_labels  = train_test_split(dataset['review'].values,dataset['sentiment'].values,test_size = 0.2)\r\n",
        "training_labels = le.fit_transform(training_labels)\r\n",
        "testing_labels = le.fit_transform(testing_labels)"
      ],
      "execution_count": null,
      "outputs": []
    },
    {
      "cell_type": "code",
      "metadata": {
        "colab": {
          "base_uri": "https://localhost:8080/"
        },
        "id": "CrExIDFcJ_pt",
        "outputId": "a045731a-a0a2-4106-b580-86d8349dbfc7"
      },
      "source": [
        "tokenizer = Tokenizer(num_words=10000,oov_token='<OOV>')\r\n",
        "tokenizer.fit_on_texts(training_reviews)\r\n",
        "word_index = tokenizer.word_index\r\n",
        "training_sequence = tokenizer.texts_to_sequences(training_reviews)\r\n",
        "testing_sequence = tokenizer.texts_to_sequences(testing_reviews)\r\n",
        "train_pad_sequence = pad_sequences(training_sequence,maxlen = 200,truncating= 'post',padding = 'pre')\r\n",
        "test_pad_sequence = pad_sequences(testing_sequence,maxlen = 200,truncating= 'post',padding = 'pre')\r\n",
        "print('Total Unique Words : {}'.format(len(word_index)))"
      ],
      "execution_count": null,
      "outputs": [
        {
          "output_type": "stream",
          "text": [
            "Total Unique Words : 112264\n"
          ],
          "name": "stdout"
        }
      ]
    },
    {
      "cell_type": "code",
      "metadata": {
        "id": "WZMF2tCcKI67"
      },
      "source": [
        "embedded_words = {}\r\n",
        "with open('/content/drive/MyDrive/Colab Notebooks/glove.6B.200d.txt') as file:\r\n",
        "    for line in file:\r\n",
        "        words, coeff = line.split(maxsplit=1)\r\n",
        "        coeff = np.array(coeff.split(),dtype = float)\r\n",
        "        embedded_words[words] = coeff"
      ],
      "execution_count": null,
      "outputs": []
    },
    {
      "cell_type": "code",
      "metadata": {
        "id": "xTcG4d-aVp53"
      },
      "source": [
        "embedding_matrix = np.zeros((len(word_index) + 1,200))\r\n",
        "for word, i in word_index.items():\r\n",
        "    embedding_vector = embedded_words.get(word)\r\n",
        "    if embedding_vector is not None:\r\n",
        "        embedding_matrix[i] = embedding_vector"
      ],
      "execution_count": null,
      "outputs": []
    },
    {
      "cell_type": "code",
      "metadata": {
        "id": "m2aFwFMEKLlq"
      },
      "source": [
        "model = tf.keras.Sequential([tf.keras.layers.Embedding(len(word_index) + 1,200,weights=[embedding_matrix],input_length=200,\r\n",
        "                            trainable=False),\r\n",
        "                             tf.keras.layers.Bidirectional(tf.keras.layers.LSTM(64)),\r\n",
        "                             tf.keras.layers.Dropout(0.5),\r\n",
        "                             tf.keras.layers.Dense(256,activation = 'relu',),\r\n",
        "                             tf.keras.layers.Dense(128,activation = 'relu'),\r\n",
        "                             tf.keras.layers.Dropout(0.5),\r\n",
        "                             tf.keras.layers.Dense(1,activation = tf.nn.sigmoid)])"
      ],
      "execution_count": null,
      "outputs": []
    },
    {
      "cell_type": "code",
      "metadata": {
        "colab": {
          "base_uri": "https://localhost:8080/"
        },
        "id": "IMTwnKLlVyeh",
        "outputId": "9652b541-f6b6-4dbb-f912-583dab856825"
      },
      "source": [
        "model.summary()"
      ],
      "execution_count": null,
      "outputs": [
        {
          "output_type": "stream",
          "text": [
            "Model: \"sequential\"\n",
            "_________________________________________________________________\n",
            "Layer (type)                 Output Shape              Param #   \n",
            "=================================================================\n",
            "embedding (Embedding)        (None, 200, 200)          22453000  \n",
            "_________________________________________________________________\n",
            "bidirectional (Bidirectional (None, 128)               135680    \n",
            "_________________________________________________________________\n",
            "dropout (Dropout)            (None, 128)               0         \n",
            "_________________________________________________________________\n",
            "dense (Dense)                (None, 256)               33024     \n",
            "_________________________________________________________________\n",
            "dense_1 (Dense)              (None, 128)               32896     \n",
            "_________________________________________________________________\n",
            "dropout_1 (Dropout)          (None, 128)               0         \n",
            "_________________________________________________________________\n",
            "dense_2 (Dense)              (None, 1)                 129       \n",
            "=================================================================\n",
            "Total params: 22,654,729\n",
            "Trainable params: 201,729\n",
            "Non-trainable params: 22,453,000\n",
            "_________________________________________________________________\n"
          ],
          "name": "stdout"
        }
      ]
    },
    {
      "cell_type": "code",
      "metadata": {
        "colab": {
          "base_uri": "https://localhost:8080/"
        },
        "id": "aDHmUcB6V1KT",
        "outputId": "3cbe6c06-3b7f-4c73-91e2-3998cb763905"
      },
      "source": [
        "model.compile(loss = tf.keras.losses.BinaryCrossentropy() , optimizer='Adam' , metrics = 'accuracy')\r\n",
        "history = model.fit(train_pad_sequence,training_labels,epochs = 30 ,validation_data=(test_pad_sequence,testing_labels))"
      ],
      "execution_count": null,
      "outputs": [
        {
          "output_type": "stream",
          "text": [
            "Epoch 1/30\n",
            "1250/1250 [==============================] - 255s 202ms/step - loss: 0.6028 - accuracy: 0.6537 - val_loss: 0.3701 - val_accuracy: 0.8343\n",
            "Epoch 2/30\n",
            "1250/1250 [==============================] - 249s 199ms/step - loss: 0.3685 - accuracy: 0.8388 - val_loss: 0.3275 - val_accuracy: 0.8561\n",
            "Epoch 3/30\n",
            "1250/1250 [==============================] - 249s 199ms/step - loss: 0.3313 - accuracy: 0.8594 - val_loss: 0.3389 - val_accuracy: 0.8597\n",
            "Epoch 4/30\n",
            "1250/1250 [==============================] - 250s 200ms/step - loss: 0.3082 - accuracy: 0.8713 - val_loss: 0.2990 - val_accuracy: 0.8709\n",
            "Epoch 5/30\n",
            "1250/1250 [==============================] - 253s 203ms/step - loss: 0.2828 - accuracy: 0.8832 - val_loss: 0.2910 - val_accuracy: 0.8750\n",
            "Epoch 6/30\n",
            "1250/1250 [==============================] - 249s 199ms/step - loss: 0.2703 - accuracy: 0.8875 - val_loss: 0.3098 - val_accuracy: 0.8667\n",
            "Epoch 7/30\n",
            "1250/1250 [==============================] - 238s 190ms/step - loss: 0.2485 - accuracy: 0.8996 - val_loss: 0.2936 - val_accuracy: 0.8762\n",
            "Epoch 8/30\n",
            "1250/1250 [==============================] - 238s 191ms/step - loss: 0.2234 - accuracy: 0.9108 - val_loss: 0.2984 - val_accuracy: 0.8714\n",
            "Epoch 9/30\n",
            "1250/1250 [==============================] - 240s 192ms/step - loss: 0.2040 - accuracy: 0.9194 - val_loss: 0.3165 - val_accuracy: 0.8751\n",
            "Epoch 10/30\n",
            "1250/1250 [==============================] - 245s 196ms/step - loss: 0.1915 - accuracy: 0.9239 - val_loss: 0.3259 - val_accuracy: 0.8744\n",
            "Epoch 11/30\n",
            "1250/1250 [==============================] - 248s 199ms/step - loss: 0.1720 - accuracy: 0.9367 - val_loss: 0.3367 - val_accuracy: 0.8718\n",
            "Epoch 12/30\n",
            "1250/1250 [==============================] - 246s 197ms/step - loss: 0.1507 - accuracy: 0.9422 - val_loss: 0.3419 - val_accuracy: 0.8680\n",
            "Epoch 13/30\n",
            "1250/1250 [==============================] - 248s 199ms/step - loss: 0.1339 - accuracy: 0.9509 - val_loss: 0.3455 - val_accuracy: 0.8700\n",
            "Epoch 14/30\n",
            "1250/1250 [==============================] - 246s 196ms/step - loss: 0.1198 - accuracy: 0.9552 - val_loss: 0.3802 - val_accuracy: 0.8671\n",
            "Epoch 15/30\n",
            "1250/1250 [==============================] - 245s 196ms/step - loss: 0.1069 - accuracy: 0.9602 - val_loss: 0.4103 - val_accuracy: 0.8645\n",
            "Epoch 16/30\n",
            "1250/1250 [==============================] - 247s 198ms/step - loss: 0.0966 - accuracy: 0.9666 - val_loss: 0.4329 - val_accuracy: 0.8724\n",
            "Epoch 17/30\n",
            "1250/1250 [==============================] - 246s 196ms/step - loss: 0.0840 - accuracy: 0.9699 - val_loss: 0.4182 - val_accuracy: 0.8690\n",
            "Epoch 18/30\n",
            "1250/1250 [==============================] - 248s 198ms/step - loss: 0.0725 - accuracy: 0.9745 - val_loss: 0.4518 - val_accuracy: 0.8663\n",
            "Epoch 19/30\n",
            "1250/1250 [==============================] - 245s 196ms/step - loss: 0.0658 - accuracy: 0.9780 - val_loss: 0.5550 - val_accuracy: 0.8596\n",
            "Epoch 20/30\n",
            "1250/1250 [==============================] - 245s 196ms/step - loss: 0.0599 - accuracy: 0.9791 - val_loss: 0.5186 - val_accuracy: 0.8658\n",
            "Epoch 21/30\n",
            "1250/1250 [==============================] - 247s 198ms/step - loss: 0.0532 - accuracy: 0.9813 - val_loss: 0.5925 - val_accuracy: 0.8650\n",
            "Epoch 22/30\n",
            "1250/1250 [==============================] - 246s 197ms/step - loss: 0.0534 - accuracy: 0.9814 - val_loss: 0.5322 - val_accuracy: 0.8645\n",
            "Epoch 23/30\n",
            "1250/1250 [==============================] - 249s 199ms/step - loss: 0.0464 - accuracy: 0.9839 - val_loss: 0.5893 - val_accuracy: 0.8590\n",
            "Epoch 24/30\n",
            "1250/1250 [==============================] - 258s 207ms/step - loss: 0.0456 - accuracy: 0.9850 - val_loss: 0.5908 - val_accuracy: 0.8607\n",
            "Epoch 25/30\n",
            "1250/1250 [==============================] - 264s 211ms/step - loss: 0.0425 - accuracy: 0.9852 - val_loss: 0.6015 - val_accuracy: 0.8598\n",
            "Epoch 26/30\n",
            "1250/1250 [==============================] - 263s 210ms/step - loss: 0.0435 - accuracy: 0.9851 - val_loss: 0.6820 - val_accuracy: 0.8622\n",
            "Epoch 27/30\n",
            "1250/1250 [==============================] - 265s 212ms/step - loss: 0.0518 - accuracy: 0.9828 - val_loss: 0.7255 - val_accuracy: 0.8599\n",
            "Epoch 28/30\n",
            "1250/1250 [==============================] - 260s 208ms/step - loss: 0.0358 - accuracy: 0.9876 - val_loss: 0.7214 - val_accuracy: 0.8636\n",
            "Epoch 29/30\n",
            "1250/1250 [==============================] - 249s 199ms/step - loss: 0.0314 - accuracy: 0.9894 - val_loss: 0.6928 - val_accuracy: 0.8654\n",
            "Epoch 30/30\n",
            "1250/1250 [==============================] - 252s 202ms/step - loss: 0.0344 - accuracy: 0.9883 - val_loss: 0.6816 - val_accuracy: 0.8579\n"
          ],
          "name": "stdout"
        }
      ]
    },
    {
      "cell_type": "code",
      "metadata": {
        "colab": {
          "base_uri": "https://localhost:8080/",
          "height": 545
        },
        "id": "xpODOJL17ppm",
        "outputId": "3ea8082a-e66a-4b9b-da50-4497af595d3b"
      },
      "source": [
        "acc = history.history['accuracy']\r\n",
        "val_acc = history.history['val_accuracy']\r\n",
        "loss = history.history['loss']\r\n",
        "val_loss = history.history['val_loss']\r\n",
        "epochs = range(len(acc))\r\n",
        "\r\n",
        "plt.plot(epochs, acc, 'r', label='Training accuracy')\r\n",
        "plt.plot(epochs, val_acc, 'b', label='Validation accuracy')\r\n",
        "plt.title('Training and validation accuracy')\r\n",
        "plt.legend(loc=0)\r\n",
        "plt.figure()\r\n",
        "\r\n",
        "plt.plot(epochs, loss, 'r', label='Training loss')\r\n",
        "plt.plot(epochs, val_loss, 'b', label='Validation loss')\r\n",
        "plt.title('Training and validation loss')\r\n",
        "plt.legend(loc=0)\r\n",
        "\r\n",
        "plt.show()"
      ],
      "execution_count": null,
      "outputs": [
        {
          "output_type": "display_data",
          "data": {
            "image/png": "[encoded data removed]",
            "text/plain": [
              "<Figure size 432x288 with 1 Axes>"
            ]
          },
          "metadata": {
            "tags": [],
            "needs_background": "light"
          }
        },
        {
          "output_type": "display_data",
          "data": {
            "image/png": "[encoded data removed]",
            "text/plain": [
              "<Figure size 432x288 with 1 Axes>"
            ]
          },
          "metadata": {
            "tags": [],
            "needs_background": "light"
          }
        }
      ]
    },
    {
      "cell_type": "code",
      "metadata": {
        "colab": {
          "base_uri": "https://localhost:8080/"
        },
        "id": "FdK95_xg7rY6",
        "outputId": "133b3964-e2bd-4266-a910-fc8b30b5db38"
      },
      "source": [
        "print('Training Accuracy: {}'.format(max(acc)))\r\n",
        "print('Validation Accuracy: {}'.format(max(val_acc)))"
      ],
      "execution_count": null,
      "outputs": [
        {
          "output_type": "stream",
          "text": [
            "Training Accuracy: 0.9874250292778015\n",
            "Validation Accuracy: 0.8762000203132629\n"
          ],
          "name": "stdout"
        }
      ]
    }
  ]
}